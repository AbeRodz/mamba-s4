{
 "cells": [
  {
   "cell_type": "code",
   "execution_count": 1,
   "metadata": {},
   "outputs": [],
   "source": [
    "from ssm import SSM\n",
    "import torch\n",
    "import torch.nn.functional as F\n",
    "import numpy as np"
   ]
  },
  {
   "cell_type": "code",
   "execution_count": 2,
   "metadata": {},
   "outputs": [],
   "source": [
    "space = SSM()"
   ]
  },
  {
   "cell_type": "code",
   "execution_count": 3,
   "metadata": {},
   "outputs": [],
   "source": [
    "h_t = torch.randn((2, 512, 64), device=\"cuda\", dtype=torch.float32)\n",
    "A_bar = torch.randn((2, 512, 64, 2), device=\"cuda\", dtype=torch.float32)\n",
    "B_bar_x = torch.randn_like(A_bar)\n",
    "C = torch.randn((2, 64, 2), device=\"cuda\", dtype=torch.float32)"
   ]
  },
  {
   "cell_type": "code",
   "execution_count": 36,
   "metadata": {},
   "outputs": [
    {
     "name": "stdout",
     "output_type": "stream",
     "text": [
      "torch.Size([2, 512, 64]) torch.Size([2, 512, 64, 2]) torch.Size([2, 512, 64, 2]) torch.Size([2, 64, 2])\n"
     ]
    }
   ],
   "source": [
    "print(h_t.shape,A_bar.shape,B_bar_x.shape,C.shape)"
   ]
  },
  {
   "cell_type": "code",
   "execution_count": 4,
   "metadata": {},
   "outputs": [],
   "source": [
    "a,b ,c = space.random_SSM(2)"
   ]
  },
  {
   "cell_type": "code",
   "execution_count": 37,
   "metadata": {},
   "outputs": [
    {
     "name": "stdout",
     "output_type": "stream",
     "text": [
      "torch.Size([2, 2]) torch.Size([2, 1]) torch.Size([1, 2])\n"
     ]
    }
   ],
   "source": [
    "print(a.shape,b.shape,c.shape)"
   ]
  },
  {
   "cell_type": "code",
   "execution_count": 8,
   "metadata": {},
   "outputs": [
    {
     "data": {
      "text/plain": [
       "(tensor([[3.1297, 1.9813],\n",
       "         [1.9116, 2.6228]]),\n",
       " tensor([[1.8986],\n",
       "         [1.6967]]),\n",
       " tensor([[0.5462, 0.3724]]))"
      ]
     },
     "execution_count": 8,
     "metadata": {},
     "output_type": "execute_result"
    }
   ],
   "source": [
    "space.discretize(a,b,c,1)"
   ]
  },
  {
   "cell_type": "code",
   "execution_count": 9,
   "metadata": {},
   "outputs": [
    {
     "data": {
      "text/plain": [
       "(tensor([[2.0200, 2.0326],\n",
       "         [1.9824, 1.6847]]),\n",
       " tensor([[2.2403],\n",
       "         [0.1713]]))"
      ]
     },
     "execution_count": 9,
     "metadata": {},
     "output_type": "execute_result"
    }
   ],
   "source": [
    "space.discretize_zoh(a,b,1)"
   ]
  },
  {
   "cell_type": "code",
   "execution_count": 10,
   "metadata": {},
   "outputs": [
    {
     "data": {
      "text/plain": [
       "torch.Size([3])"
      ]
     },
     "execution_count": 10,
     "metadata": {},
     "output_type": "execute_result"
    }
   ],
   "source": [
    "u = torch.ones([3])\n",
    "u.shape"
   ]
  },
  {
   "cell_type": "code",
   "execution_count": 10,
   "metadata": {},
   "outputs": [],
   "source": [
    "def complex_log(float_input, eps=1e-6):\n",
    "        eps = float_input.new_tensor(eps)\n",
    "        real = float_input.abs().maximum(eps).log()\n",
    "        imag = (float_input < 0).to(float_input.dtype) * torch.pi\n",
    "        return torch.complex(real, imag)"
   ]
  },
  {
   "cell_type": "markdown",
   "metadata": {},
   "source": [
    "###  TODO READ THE S4 code the issue is on the input dimensionality, seems that einsum might be the answer to this issue"
   ]
  },
  {
   "cell_type": "markdown",
   "metadata": {},
   "source": [
    "# Structure and Dimensions.\n",
    "Finally, we note that structured SSMs are so named because computing them efficiently also requires imposing structure on the A matrix. The most popular form of structure is diagonal which we also use.\n",
    "\n",
    "In this case, the A ∈ ℝN×N, B ∈ ℝN×1, C ∈ ℝ1×N matrices can all be represented by N numbers. \n",
    "\n",
    "To operate over an input sequence x of batch size B and length L with D channels, the SSM is applied independently to each\n",
    "channel.\n",
    "\n",
    "Note that in this case, the total hidden state has dimension DN per input, and computing it over the\n",
    "sequence length requires O(BLDN) time and memory; this is the root of the fundamental efficiency bottleneck\n",
    "\n"
   ]
  },
  {
   "cell_type": "markdown",
   "metadata": {},
   "source": [
    "# dimesnions \n",
    " - Input(x) and output(y) are of size BLD\n",
    " - A : (DN)\n",
    " - B : (BLN) \n",
    " - C : (BLN)\n",
    " - Delta : (BLD)\n",
    " - A_BAR, B_BAR : (BLDN) discretize with (Delta,AB)\n",
    " "
   ]
  },
  {
   "cell_type": "code",
   "execution_count": 33,
   "metadata": {},
   "outputs": [],
   "source": [
    "def parallel_scan( h_t: torch.Tensor ,A_bar : torch.Tensor, B_bar: torch.Tensor, C: torch.Tensor):\n",
    "        ## SSM COMPATIBLE\n",
    "        # h_t = A_bar * h_t-1 + B_bar*x_t\n",
    "        #y_t =C*h_t\n",
    "\n",
    "        ## heinsen\n",
    "        # x_t = a_t*x_t-1 + b_t\n",
    "\n",
    "        # equivalent notation\n",
    "\n",
    "        # h_t = A_bar_t * h_t-1 + B_bar*x_t\n",
    "        # where x_t is the input sequence hence:\n",
    "        # cat(B_bar,  x_t) = b_t' or b_t prime.\n",
    "        # finally:\n",
    "        # h_t = A_bar_t * h_t-1 + b_t'\n",
    "        \"\"\"\n",
    "        In summary we need to calculate a state space equation (S4) using the heinsen method.\n",
    "\n",
    "        \"\"\"\n",
    "        #b_t_prime =  torch.cat([h_t[..., None], B_bar], dim=-1)\n",
    "        #b_t_prime = torch.matmul(B_bar,h_t)\n",
    "        #b_t_prime = B_bar @ h_t\n",
    "        b_t_prime = torch.einsum(\"bld,bln->bldn\", h_t,B_bar)\n",
    "        log_b_t = complex_log(b_t_prime)\n",
    "        log_a_t = complex_log(A_bar)\n",
    "        a_star = F.pad(torch.cumsum(log_a_t, dim = -1),(1,0))\n",
    "        #a_star = torch.cumsum(log_a_t, dim = -1)\n",
    "        print(log_b_t.shape)\n",
    "        print(a_star.shape)\n",
    "        log_h0_plus_b_star = torch.logcumsumexp(log_b_t - a_star, dim = -1)\n",
    "\n",
    "        log_h = (a_star + log_h0_plus_b_star)[...,1:]\n",
    "        \n",
    "        h = torch.exp(log_h).real\n",
    "        print(h.shape)\n",
    "        y_t = torch.matmul(C, h).squeeze(-1)\n",
    "        #y_t = torch.einsum(\"bnt,bdnt->bdt\", C, h) \n",
    "        return h, y_t"
   ]
  },
  {
   "cell_type": "code",
   "execution_count": 13,
   "metadata": {},
   "outputs": [],
   "source": [
    "def selective_scan(u, dt, A, B, C):\n",
    "        dA = torch.einsum('bld,dn->bldn', dt, A)\n",
    "        dB_u = torch.einsum('bld,bld,bln->bldn', dt, u, B)\n",
    "        \n",
    "        dA_cumsum = F.pad(dA[:, 1:], (0, 0, 0, 0, 0, 1)).flip(1).cumsum(1).exp().flip(1)\n",
    "        x = dB_u * dA_cumsum\n",
    "        x = x.cumsum(1) / (dA_cumsum + 1e-12)\n",
    "        y = torch.einsum('bldn,bln->bld', x, C)\n",
    "    \n",
    "        return y + u"
   ]
  },
  {
   "cell_type": "code",
   "execution_count": 14,
   "metadata": {},
   "outputs": [],
   "source": [
    "def compute_in_parallel(coeffs, values):\n",
    "    log_coeffs = complex_log(coeffs)\n",
    "    log_values = complex_log(values)\n",
    "    a_star = F.pad(torch.cumsum(log_coeffs, dim=-1), (1, 0))              # eq (2) in paper\n",
    "    print(log_values.shape)\n",
    "    print(a_star.shape)\n",
    "    log_x0_plus_b_star = torch.logcumsumexp(log_values - a_star, dim=-1)  # eq (7) in paper\n",
    "    log_x = a_star + log_x0_plus_b_star                                   # eq (1) in paper\n",
    "    return torch.exp(log_x).real"
   ]
  },
  {
   "cell_type": "code",
   "execution_count": 15,
   "metadata": {},
   "outputs": [],
   "source": [
    "u = torch.Tensor([[1,1]])"
   ]
  },
  {
   "cell_type": "code",
   "execution_count": 16,
   "metadata": {},
   "outputs": [
    {
     "data": {
      "text/plain": [
       "torch.Size([1, 2])"
      ]
     },
     "execution_count": 16,
     "metadata": {},
     "output_type": "execute_result"
    }
   ],
   "source": [
    "u.shape"
   ]
  },
  {
   "cell_type": "code",
   "execution_count": 17,
   "metadata": {},
   "outputs": [
    {
     "data": {
      "text/plain": [
       "torch.Size([2, 1])"
      ]
     },
     "execution_count": 17,
     "metadata": {},
     "output_type": "execute_result"
    }
   ],
   "source": [
    "b.shape"
   ]
  },
  {
   "cell_type": "code",
   "execution_count": 35,
   "metadata": {},
   "outputs": [
    {
     "name": "stdout",
     "output_type": "stream",
     "text": [
      "torch.Size([2, 2]) torch.Size([2, 1]) torch.Size([1, 2]) torch.Size([1, 2])\n"
     ]
    }
   ],
   "source": [
    "print(a.shape,b.shape,c.shape,u.shape)"
   ]
  },
  {
   "cell_type": "code",
   "execution_count": 34,
   "metadata": {},
   "outputs": [
    {
     "ename": "RuntimeError",
     "evalue": "einsum(): the number of subscripts in the equation (3) does not match the number of dimensions (2) for operand 0 and no ellipsis was given",
     "output_type": "error",
     "traceback": [
      "\u001b[1;31m---------------------------------------------------------------------------\u001b[0m",
      "\u001b[1;31mRuntimeError\u001b[0m                              Traceback (most recent call last)",
      "Cell \u001b[1;32mIn[34], line 1\u001b[0m\n\u001b[1;32m----> 1\u001b[0m \u001b[43mparallel_scan\u001b[49m\u001b[43m(\u001b[49m\u001b[43mu\u001b[49m\u001b[43m,\u001b[49m\u001b[43ma\u001b[49m\u001b[43m,\u001b[49m\u001b[43mb\u001b[49m\u001b[43m,\u001b[49m\u001b[43mc\u001b[49m\u001b[43m)\u001b[49m\n",
      "Cell \u001b[1;32mIn[33], line 23\u001b[0m, in \u001b[0;36mparallel_scan\u001b[1;34m(h_t, A_bar, B_bar, C)\u001b[0m\n\u001b[0;32m     16\u001b[0m \u001b[38;5;250m\u001b[39m\u001b[38;5;124;03m\"\"\"\u001b[39;00m\n\u001b[0;32m     17\u001b[0m \u001b[38;5;124;03mIn summary we need to calculate a state space equation (S4) using the heinsen method.\u001b[39;00m\n\u001b[0;32m     18\u001b[0m \n\u001b[0;32m     19\u001b[0m \u001b[38;5;124;03m\"\"\"\u001b[39;00m\n\u001b[0;32m     20\u001b[0m \u001b[38;5;66;03m#b_t_prime =  torch.cat([h_t[..., None], B_bar], dim=-1)\u001b[39;00m\n\u001b[0;32m     21\u001b[0m \u001b[38;5;66;03m#b_t_prime = torch.matmul(B_bar,h_t)\u001b[39;00m\n\u001b[0;32m     22\u001b[0m \u001b[38;5;66;03m#b_t_prime = B_bar @ h_t\u001b[39;00m\n\u001b[1;32m---> 23\u001b[0m b_t_prime \u001b[38;5;241m=\u001b[39m \u001b[43mtorch\u001b[49m\u001b[38;5;241;43m.\u001b[39;49m\u001b[43meinsum\u001b[49m\u001b[43m(\u001b[49m\u001b[38;5;124;43m\"\u001b[39;49m\u001b[38;5;124;43mbld,bln->bldn\u001b[39;49m\u001b[38;5;124;43m\"\u001b[39;49m\u001b[43m,\u001b[49m\u001b[43m \u001b[49m\u001b[43mh_t\u001b[49m\u001b[43m,\u001b[49m\u001b[43mB_bar\u001b[49m\u001b[43m)\u001b[49m\n\u001b[0;32m     24\u001b[0m log_b_t \u001b[38;5;241m=\u001b[39m complex_log(b_t_prime)\n\u001b[0;32m     25\u001b[0m log_a_t \u001b[38;5;241m=\u001b[39m complex_log(A_bar)\n",
      "File \u001b[1;32mc:\\Users\\Usuario\\Documents\\python_stuff\\venv\\Lib\\site-packages\\torch\\functional.py:377\u001b[0m, in \u001b[0;36meinsum\u001b[1;34m(*args)\u001b[0m\n\u001b[0;32m    372\u001b[0m     \u001b[38;5;28;01mreturn\u001b[39;00m einsum(equation, \u001b[38;5;241m*\u001b[39m_operands)\n\u001b[0;32m    374\u001b[0m \u001b[38;5;28;01mif\u001b[39;00m \u001b[38;5;28mlen\u001b[39m(operands) \u001b[38;5;241m<\u001b[39m\u001b[38;5;241m=\u001b[39m \u001b[38;5;241m2\u001b[39m \u001b[38;5;129;01mor\u001b[39;00m \u001b[38;5;129;01mnot\u001b[39;00m opt_einsum\u001b[38;5;241m.\u001b[39menabled:\n\u001b[0;32m    375\u001b[0m     \u001b[38;5;66;03m# the path for contracting 0 or 1 time(s) is already optimized\u001b[39;00m\n\u001b[0;32m    376\u001b[0m     \u001b[38;5;66;03m# or the user has disabled using opt_einsum\u001b[39;00m\n\u001b[1;32m--> 377\u001b[0m     \u001b[38;5;28;01mreturn\u001b[39;00m \u001b[43m_VF\u001b[49m\u001b[38;5;241;43m.\u001b[39;49m\u001b[43meinsum\u001b[49m\u001b[43m(\u001b[49m\u001b[43mequation\u001b[49m\u001b[43m,\u001b[49m\u001b[43m \u001b[49m\u001b[43moperands\u001b[49m\u001b[43m)\u001b[49m  \u001b[38;5;66;03m# type: ignore[attr-defined]\u001b[39;00m\n\u001b[0;32m    379\u001b[0m path \u001b[38;5;241m=\u001b[39m \u001b[38;5;28;01mNone\u001b[39;00m\n\u001b[0;32m    380\u001b[0m \u001b[38;5;28;01mif\u001b[39;00m opt_einsum\u001b[38;5;241m.\u001b[39mis_available():\n",
      "\u001b[1;31mRuntimeError\u001b[0m: einsum(): the number of subscripts in the equation (3) does not match the number of dimensions (2) for operand 0 and no ellipsis was given"
     ]
    }
   ],
   "source": [
    "parallel_scan(u,a,b,c)"
   ]
  },
  {
   "cell_type": "code",
   "execution_count": 20,
   "metadata": {},
   "outputs": [
    {
     "name": "stdout",
     "output_type": "stream",
     "text": [
      "torch.Size([2, 1])\n",
      "torch.Size([2, 3])\n"
     ]
    },
    {
     "data": {
      "text/plain": [
       "tensor([[0.6294, 1.0719, 1.3897],\n",
       "        [0.6046, 1.0184, 1.1358]])"
      ]
     },
     "execution_count": 20,
     "metadata": {},
     "output_type": "execute_result"
    }
   ],
   "source": [
    "compute_in_parallel(a,b)"
   ]
  },
  {
   "cell_type": "code",
   "execution_count": 32,
   "metadata": {},
   "outputs": [
    {
     "name": "stdout",
     "output_type": "stream",
     "text": [
      "torch.Size([2, 2])\n",
      "torch.Size([2, 3])\n"
     ]
    },
    {
     "ename": "RuntimeError",
     "evalue": "The size of tensor a (2) must match the size of tensor b (3) at non-singleton dimension 1",
     "output_type": "error",
     "traceback": [
      "\u001b[1;31m---------------------------------------------------------------------------\u001b[0m",
      "\u001b[1;31mRuntimeError\u001b[0m                              Traceback (most recent call last)",
      "Cell \u001b[1;32mIn[32], line 1\u001b[0m\n\u001b[1;32m----> 1\u001b[0m h , y \u001b[38;5;241m=\u001b[39m \u001b[43mparallel_scan\u001b[49m\u001b[43m(\u001b[49m\u001b[43mu\u001b[49m\u001b[43m,\u001b[49m\u001b[43m \u001b[49m\u001b[43ma\u001b[49m\u001b[43m,\u001b[49m\u001b[43m \u001b[49m\u001b[43mb\u001b[49m\u001b[43m,\u001b[49m\u001b[43m \u001b[49m\u001b[43mc\u001b[49m\u001b[43m)\u001b[49m\n",
      "Cell \u001b[1;32mIn[30], line 30\u001b[0m, in \u001b[0;36mparallel_scan\u001b[1;34m(h_t, A_bar, B_bar, C)\u001b[0m\n\u001b[0;32m     28\u001b[0m \u001b[38;5;28mprint\u001b[39m(log_b_t\u001b[38;5;241m.\u001b[39mshape)\n\u001b[0;32m     29\u001b[0m \u001b[38;5;28mprint\u001b[39m(a_star\u001b[38;5;241m.\u001b[39mshape)\n\u001b[1;32m---> 30\u001b[0m log_h0_plus_b_star \u001b[38;5;241m=\u001b[39m torch\u001b[38;5;241m.\u001b[39mlogcumsumexp(\u001b[43mlog_b_t\u001b[49m\u001b[43m \u001b[49m\u001b[38;5;241;43m-\u001b[39;49m\u001b[43m \u001b[49m\u001b[43ma_star\u001b[49m, dim \u001b[38;5;241m=\u001b[39m \u001b[38;5;241m-\u001b[39m\u001b[38;5;241m1\u001b[39m)\n\u001b[0;32m     32\u001b[0m log_h \u001b[38;5;241m=\u001b[39m (a_star \u001b[38;5;241m+\u001b[39m log_h0_plus_b_star)[\u001b[38;5;241m.\u001b[39m\u001b[38;5;241m.\u001b[39m\u001b[38;5;241m.\u001b[39m,\u001b[38;5;241m1\u001b[39m:]\n\u001b[0;32m     34\u001b[0m h \u001b[38;5;241m=\u001b[39m torch\u001b[38;5;241m.\u001b[39mexp(log_h)\u001b[38;5;241m.\u001b[39mreal\n",
      "\u001b[1;31mRuntimeError\u001b[0m: The size of tensor a (2) must match the size of tensor b (3) at non-singleton dimension 1"
     ]
    }
   ],
   "source": [
    "h , y = parallel_scan(u, a, b, c)"
   ]
  },
  {
   "cell_type": "code",
   "execution_count": null,
   "metadata": {},
   "outputs": [
    {
     "data": {
      "text/plain": [
       "tensor([[2.0000e-06],\n",
       "        [1.0000e+00]])"
      ]
     },
     "execution_count": 127,
     "metadata": {},
     "output_type": "execute_result"
    }
   ],
   "source": [
    "h"
   ]
  },
  {
   "cell_type": "code",
   "execution_count": null,
   "metadata": {},
   "outputs": [
    {
     "data": {
      "text/plain": [
       "tensor([2.0000e-06])"
      ]
     },
     "execution_count": 128,
     "metadata": {},
     "output_type": "execute_result"
    }
   ],
   "source": [
    "y"
   ]
  },
  {
   "cell_type": "code",
   "execution_count": null,
   "metadata": {},
   "outputs": [
    {
     "data": {
      "text/plain": [
       "torch.Size([3])"
      ]
     },
     "execution_count": 35,
     "metadata": {},
     "output_type": "execute_result"
    }
   ],
   "source": [
    "u.shape"
   ]
  },
  {
   "cell_type": "code",
   "execution_count": 22,
   "metadata": {},
   "outputs": [],
   "source": [
    "def example_mass(k, b, m):\n",
    "    A = np.array([[0, 1], [-k / m, -b / m]])\n",
    "    B = np.array([[0], [1.0 / m]])\n",
    "    C = np.array([[1.0, 0]])\n",
    "    return torch.Tensor(A), torch.Tensor(B), torch.Tensor(C)"
   ]
  },
  {
   "cell_type": "code",
   "execution_count": 38,
   "metadata": {},
   "outputs": [],
   "source": [
    "a,b,c = example_mass(1,5,1)"
   ]
  },
  {
   "cell_type": "code",
   "execution_count": 40,
   "metadata": {},
   "outputs": [
    {
     "name": "stdout",
     "output_type": "stream",
     "text": [
      "0:torch.Size([2, 2])\n",
      "1:torch.Size([2, 1])\n",
      "2:torch.Size([1, 2])\n"
     ]
    }
   ],
   "source": [
    "print_shapes([a,b,c])"
   ]
  },
  {
   "cell_type": "code",
   "execution_count": 25,
   "metadata": {},
   "outputs": [],
   "source": [
    "def example_force(t):\n",
    "    x = np.sin(10 * t)\n",
    "    return torch.Tensor(x * (x > 0.5))"
   ]
  },
  {
   "cell_type": "code",
   "execution_count": null,
   "metadata": {},
   "outputs": [],
   "source": [
    "u = example_force(np.arange(2))"
   ]
  },
  {
   "cell_type": "code",
   "execution_count": null,
   "metadata": {},
   "outputs": [
    {
     "data": {
      "text/plain": [
       "tensor([1., 1.])"
      ]
     },
     "execution_count": 37,
     "metadata": {},
     "output_type": "execute_result"
    }
   ],
   "source": [
    "u = torch.Tensor([1,1])\n",
    "u"
   ]
  },
  {
   "cell_type": "code",
   "execution_count": null,
   "metadata": {},
   "outputs": [
    {
     "data": {
      "text/plain": [
       "tensor([[ 0.,  1.],\n",
       "        [-1., -5.]])"
      ]
     },
     "execution_count": 38,
     "metadata": {},
     "output_type": "execute_result"
    }
   ],
   "source": [
    "a"
   ]
  },
  {
   "cell_type": "code",
   "execution_count": null,
   "metadata": {},
   "outputs": [
    {
     "data": {
      "text/plain": [
       "tensor([[ 0.,  1.],\n",
       "        [-1., -5.]])"
      ]
     },
     "execution_count": 39,
     "metadata": {},
     "output_type": "execute_result"
    }
   ],
   "source": [
    "a * u"
   ]
  },
  {
   "cell_type": "code",
   "execution_count": null,
   "metadata": {},
   "outputs": [],
   "source": [
    "X = torch.rand((2, 2))\n",
    "y = torch.rand((1, 2))"
   ]
  },
  {
   "cell_type": "code",
   "execution_count": null,
   "metadata": {},
   "outputs": [
    {
     "data": {
      "text/plain": [
       "tensor([[0.3428, 0.8222]])"
      ]
     },
     "execution_count": 42,
     "metadata": {},
     "output_type": "execute_result"
    }
   ],
   "source": [
    "y"
   ]
  },
  {
   "cell_type": "code",
   "execution_count": null,
   "metadata": {},
   "outputs": [
    {
     "data": {
      "text/plain": [
       "tensor([[0.7660],\n",
       "        [0.8331]])"
      ]
     },
     "execution_count": 43,
     "metadata": {},
     "output_type": "execute_result"
    }
   ],
   "source": [
    "torch.einsum(\"ij,kj->ik\",X,y )"
   ]
  },
  {
   "cell_type": "code",
   "execution_count": null,
   "metadata": {},
   "outputs": [
    {
     "ename": "RuntimeError",
     "evalue": "einsum(): the number of subscripts in the equation (3) does not match the number of dimensions (1) for operand 0 and no ellipsis was given",
     "output_type": "error",
     "traceback": [
      "\u001b[1;31m---------------------------------------------------------------------------\u001b[0m",
      "\u001b[1;31mRuntimeError\u001b[0m                              Traceback (most recent call last)",
      "Cell \u001b[1;32mIn[45], line 1\u001b[0m\n\u001b[1;32m----> 1\u001b[0m h , y \u001b[38;5;241m=\u001b[39m \u001b[43mparallel_scan\u001b[49m\u001b[43m(\u001b[49m\u001b[43mu\u001b[49m\u001b[43m,\u001b[49m\u001b[43m \u001b[49m\u001b[43ma\u001b[49m\u001b[43m,\u001b[49m\u001b[43m \u001b[49m\u001b[43mb\u001b[49m\u001b[43m,\u001b[49m\u001b[43m \u001b[49m\u001b[43mc\u001b[49m\u001b[43m)\u001b[49m\n",
      "Cell \u001b[1;32mIn[26], line 23\u001b[0m, in \u001b[0;36mparallel_scan\u001b[1;34m(h_t, A_bar, B_bar, C)\u001b[0m\n\u001b[0;32m     16\u001b[0m \u001b[38;5;250m\u001b[39m\u001b[38;5;124;03m\"\"\"\u001b[39;00m\n\u001b[0;32m     17\u001b[0m \u001b[38;5;124;03mIn summary we need to calculate a state space equation (S4) using the heinsen method.\u001b[39;00m\n\u001b[0;32m     18\u001b[0m \n\u001b[0;32m     19\u001b[0m \u001b[38;5;124;03m\"\"\"\u001b[39;00m\n\u001b[0;32m     20\u001b[0m \u001b[38;5;66;03m#b_t_prime =  torch.cat([h_t[..., None], B_bar], dim=-1)\u001b[39;00m\n\u001b[0;32m     21\u001b[0m \u001b[38;5;66;03m#b_t_prime = torch.matmul(B_bar,h_t)\u001b[39;00m\n\u001b[0;32m     22\u001b[0m \u001b[38;5;66;03m#b_t_prime = B_bar @ h_t\u001b[39;00m\n\u001b[1;32m---> 23\u001b[0m b_t_prime \u001b[38;5;241m=\u001b[39m \u001b[43mtorch\u001b[49m\u001b[38;5;241;43m.\u001b[39;49m\u001b[43meinsum\u001b[49m\u001b[43m(\u001b[49m\u001b[38;5;124;43m\"\u001b[39;49m\u001b[38;5;124;43mbld,bln->bldn\u001b[39;49m\u001b[38;5;124;43m\"\u001b[39;49m\u001b[43m,\u001b[49m\u001b[43m \u001b[49m\u001b[43mh_t\u001b[49m\u001b[43m,\u001b[49m\u001b[43mB_bar\u001b[49m\u001b[43m)\u001b[49m\n\u001b[0;32m     24\u001b[0m log_b_t \u001b[38;5;241m=\u001b[39m complex_log(b_t_prime)\n\u001b[0;32m     25\u001b[0m log_a_t \u001b[38;5;241m=\u001b[39m complex_log(A_bar)\n",
      "File \u001b[1;32mc:\\Users\\Usuario\\Documents\\python_stuff\\venv\\Lib\\site-packages\\torch\\functional.py:377\u001b[0m, in \u001b[0;36meinsum\u001b[1;34m(*args)\u001b[0m\n\u001b[0;32m    372\u001b[0m     \u001b[38;5;28;01mreturn\u001b[39;00m einsum(equation, \u001b[38;5;241m*\u001b[39m_operands)\n\u001b[0;32m    374\u001b[0m \u001b[38;5;28;01mif\u001b[39;00m \u001b[38;5;28mlen\u001b[39m(operands) \u001b[38;5;241m<\u001b[39m\u001b[38;5;241m=\u001b[39m \u001b[38;5;241m2\u001b[39m \u001b[38;5;129;01mor\u001b[39;00m \u001b[38;5;129;01mnot\u001b[39;00m opt_einsum\u001b[38;5;241m.\u001b[39menabled:\n\u001b[0;32m    375\u001b[0m     \u001b[38;5;66;03m# the path for contracting 0 or 1 time(s) is already optimized\u001b[39;00m\n\u001b[0;32m    376\u001b[0m     \u001b[38;5;66;03m# or the user has disabled using opt_einsum\u001b[39;00m\n\u001b[1;32m--> 377\u001b[0m     \u001b[38;5;28;01mreturn\u001b[39;00m \u001b[43m_VF\u001b[49m\u001b[38;5;241;43m.\u001b[39;49m\u001b[43meinsum\u001b[49m\u001b[43m(\u001b[49m\u001b[43mequation\u001b[49m\u001b[43m,\u001b[49m\u001b[43m \u001b[49m\u001b[43moperands\u001b[49m\u001b[43m)\u001b[49m  \u001b[38;5;66;03m# type: ignore[attr-defined]\u001b[39;00m\n\u001b[0;32m    379\u001b[0m path \u001b[38;5;241m=\u001b[39m \u001b[38;5;28;01mNone\u001b[39;00m\n\u001b[0;32m    380\u001b[0m \u001b[38;5;28;01mif\u001b[39;00m opt_einsum\u001b[38;5;241m.\u001b[39mis_available():\n",
      "\u001b[1;31mRuntimeError\u001b[0m: einsum(): the number of subscripts in the equation (3) does not match the number of dimensions (1) for operand 0 and no ellipsis was given"
     ]
    }
   ],
   "source": [
    "h , y = parallel_scan(u, a, b, c)"
   ]
  },
  {
   "cell_type": "code",
   "execution_count": null,
   "metadata": {},
   "outputs": [
    {
     "data": {
      "text/plain": [
       "array([9.737088e-05, 4.968198e-05], dtype=float32)"
      ]
     },
     "execution_count": 125,
     "metadata": {},
     "output_type": "execute_result"
    }
   ],
   "source": [
    "y"
   ]
  },
  {
   "cell_type": "code",
   "execution_count": null,
   "metadata": {},
   "outputs": [
    {
     "data": {
      "text/plain": [
       "tensor([[1.0000e-06, 2.0000e-06],\n",
       "        [6.6002e-15, 1.0000e+00]])"
      ]
     },
     "execution_count": 51,
     "metadata": {},
     "output_type": "execute_result"
    }
   ],
   "source": [
    "h"
   ]
  },
  {
   "cell_type": "code",
   "execution_count": null,
   "metadata": {},
   "outputs": [
    {
     "data": {
      "text/plain": [
       "(tensor([[  0.,   1.],\n",
       "         [-40.,  -5.]]),\n",
       " tensor([[0.],\n",
       "         [1.]]),\n",
       " tensor([[1., 0.]]))"
      ]
     },
     "execution_count": 170,
     "metadata": {},
     "output_type": "execute_result"
    }
   ],
   "source": [
    "example_mass(40,5,1)"
   ]
  },
  {
   "cell_type": "code",
   "execution_count": null,
   "metadata": {},
   "outputs": [
    {
     "data": {
      "text/plain": [
       "tensor([0.0000, 0.0000, 0.0000, 0.0000, 0.0000, 0.0000, 0.5646, 0.6442, 0.7174,\n",
       "        0.7833, 0.8415, 0.8912, 0.9320, 0.9636, 0.9854, 0.9975, 0.9996, 0.9917,\n",
       "        0.9738, 0.9463, 0.9093, 0.8632, 0.8085, 0.7457, 0.6755, 0.5985, 0.5155,\n",
       "        0.0000, 0.0000, 0.0000, 0.0000, 0.0000, -0.0000, -0.0000, -0.0000, -0.0000,\n",
       "        -0.0000, -0.0000, -0.0000, -0.0000, -0.0000, -0.0000, -0.0000, -0.0000, -0.0000,\n",
       "        -0.0000, -0.0000, -0.0000, -0.0000, -0.0000, -0.0000, -0.0000, -0.0000, -0.0000,\n",
       "        -0.0000, -0.0000, -0.0000, -0.0000, -0.0000, -0.0000, -0.0000, -0.0000, -0.0000,\n",
       "        0.0000, 0.0000, 0.0000, 0.0000, 0.0000, 0.0000, 0.5784, 0.6570, 0.7290,\n",
       "        0.7937, 0.8504, 0.8987, 0.9380, 0.9679, 0.9882, 0.9985, 0.9989, 0.9894,\n",
       "        0.9699, 0.9407, 0.9022, 0.8546, 0.7985, 0.7344, 0.6630, 0.5849, 0.5010,\n",
       "        0.0000, 0.0000, 0.0000, 0.0000, 0.0000, -0.0000, -0.0000, -0.0000, -0.0000,\n",
       "        -0.0000])"
      ]
     },
     "execution_count": 171,
     "metadata": {},
     "output_type": "execute_result"
    }
   ],
   "source": [
    "u"
   ]
  },
  {
   "cell_type": "code",
   "execution_count": null,
   "metadata": {},
   "outputs": [],
   "source": [
    "def parallel_scan(\n",
    "    h_t: torch.FloatTensor,\n",
    "    A_bar: torch.FloatTensor,\n",
    "    B_bar_x: torch.FloatTensor,\n",
    "    C: torch.FloatTensor,\n",
    "    eps: float = 1e-8,\n",
    ") -> torch.FloatTensor:\n",
    "    \"\"\"\n",
    "    Parallel computation of the selective scan based on the algorithm described in\n",
    "    \"Efficient Parallelization of a Ubiquitous Sequential Computation\". This method\n",
    "    transforms the sequential operation `x_t = a_t * x_{t−1} + b_t` into a form\n",
    "    suitable for parallel processing. It computes `log(x_t) = a_star_t + log(x_0 + b_star_t)`\n",
    "    using parallel cumulative sums, where `a_star_t = cumsum(log(a_t))` and\n",
    "    `b_star_t = logcumsumexp(log(b_t - a_star_t))`. This approach significantly\n",
    "    enhances computational efficiency for large-scale tensor operations. In this method, we use the\n",
    "    above formulation to compute `h_t = a_t * h_{t−1} + b_t` and `y_t = C_t h_t` in parallel.\n",
    "\n",
    "    Reference:\n",
    "    [Efficient Parallelization of a Ubiquitous Sequential Computation](https://arxiv.org/pdf/2311.06281.pdf)\n",
    "    \"\"\"\n",
    "    # Combine B_bar_x and h_t into a single tensor\n",
    "    B_bar_x = torch.cat([h_t[..., None], B_bar_x], dim=-1)  # [b x d x n x t + 1]\n",
    "\n",
    "    # Compute the log of the parameters in complex space as log of negative numbers is complex\n",
    "    log_A_bar = (\n",
    "        A_bar.masked_fill(A_bar == 0, eps).to(torch.complex64)\n",
    "    ).log()  # log a_t (eq. 2 - Efficient Parallelization)\n",
    "    log_B_bar_x = (\n",
    "        B_bar_x.masked_fill(B_bar_x == 0, eps).to(torch.complex64)\n",
    "    ).log()  # log b_t (eq. 2 - Efficient Parallelization)\n",
    "\n",
    "    # Compute the cumulative sum of log_A_bar along the time dimension\n",
    "    A_bar_star = F.pad(\n",
    "        torch.cumsum(log_A_bar, dim=-1), (1, 0)\n",
    "    )  # a_star_t (eq. 2 - Efficient Parallelization) [b x d x n x t + 1]\n",
    "\n",
    "    # Compute the log of the cumulative sum of log_B_bar_x along the time dimension\n",
    "    B_bar_x_star = torch.logcumsumexp(\n",
    "        log_B_bar_x - A_bar_star, dim=-1\n",
    "    )  # b_star_t (eq. 2 - Efficient Parallelization) [b x d x n x t + 1]\n",
    "\n",
    "    log_h_ts = (A_bar_star + B_bar_x_star)[\n",
    "        ..., 1:\n",
    "    ]  # log x_t (eq. 1 - Efficient Parallelization)\n",
    "    h_ts = torch.exp(\n",
    "        log_h_ts\n",
    "    ).real  # x_t (eq. 3 - Efficient Parallelization) h_t = ̄A_t h_t + ̄Bx_t (eq. 2a - Mamba)\n",
    "    print(h_ts.shape)\n",
    "    return torch.einsum(\"bnt,bdnt->bdt\", C, h_ts)  # y_t = C_t h_t  (eq. 2b - Mamba)"
   ]
  },
  {
   "cell_type": "code",
   "execution_count": null,
   "metadata": {},
   "outputs": [],
   "source": [
    "def scan_SSM(Ab, Bb, Cb, u, x0):\n",
    "    def step(x_k_1, u_k):\n",
    "        x_k = Ab @ x_k_1 + Bb @ u_k\n",
    "        y_k = Cb @ x_k\n",
    "        return x_k, y_k\n",
    "\n",
    "    return jax.lax.scan(step, x0, u)"
   ]
  },
  {
   "cell_type": "markdown",
   "metadata": {},
   "source": [
    "# dimesnions  S4\n",
    " - Input(x) and output(y) are of size BLD\n",
    " - A : (DN)\n",
    " - B : (DN) \n",
    " - C : (DN)\n",
    " - Delta : (D)\n",
    " - A_BAR, B_BAR : (DN) discretize with (Delta,AB)\n",
    " "
   ]
  },
  {
   "cell_type": "code",
   "execution_count": 264,
   "metadata": {},
   "outputs": [],
   "source": [
    "def SSM_S4(dt: torch.Tensor, h_t: torch.Tensor ,A : torch.Tensor, B: torch.Tensor, C: torch.Tensor):\n",
    "\n",
    "    dA = torch.exp(torch.einsum(\"d,dn-> dn\", dt, A))\n",
    "    print(\"dA:\", dA.shape)\n",
    "    dB_u = torch.einsum(\"d,dn,bld->bldn\",dt,B,h_t)\n",
    "    log_da = complex_log(dA)\n",
    "    print(\"dB_u:\", dB_u.shape)\n",
    "\n",
    "    log_dB_u = complex_log(dB_u)\n",
    "    print(\"log_da:\",log_da.shape)\n",
    "    print(\"log_dB_u:\",log_dB_u.shape)\n",
    "    a_star = F.pad(torch.cumsum(log_da,dim =-1),(0,0,0,1))\n",
    "    log_x0_plus_b_star = torch.logcumsumexp(log_dB_u - a_star, dim=-1)  \n",
    "    log_x = a_star + log_x0_plus_b_star                                   # eq (1) in paper\n",
    "    x = torch.exp(log_x).real\t\n",
    "    y = torch.einsum('blnn,dn->bld', x,C)\n",
    "    return y "
   ]
  },
  {
   "cell_type": "code",
   "execution_count": 341,
   "metadata": {},
   "outputs": [],
   "source": [
    "def SSM_S4(dt: torch.Tensor, h_t: torch.Tensor ,A : torch.Tensor, B: torch.Tensor, C: torch.Tensor):\n",
    "    # with 2 dim\n",
    "    print(h_t.shape)\n",
    "    dA = torch.exp(torch.einsum(\"d,dn-> dn\", dt, A))\n",
    "    print(\"dA:\", dA.shape)\n",
    "    if h_t.ndim >2:\n",
    "        dB_u = torch.einsum(\"d,dn,bld->bldn\",dt,B,h_t)\n",
    "    else:\n",
    " \n",
    "        dB_u = torch.einsum(\"d,dn,bd->bdn\",dt,B,h_t)\n",
    "    log_da = complex_log(dA)\n",
    "    print(\"dB_u:\", dB_u.shape)\n",
    "\n",
    "    log_dB_u = complex_log(dB_u)\n",
    "    print(\"log_da:\",log_da.shape)\n",
    "    print(\"log_dB_u:\",log_dB_u.shape)\n",
    "    if h_t.ndim >2:\n",
    "        a_star = F.pad(torch.cumsum(log_da,dim =-1),(0,0,0,1))  \n",
    "    else:\n",
    "        a_star = F.pad(torch.cumsum(log_da,dim =-1),(0,1))  \n",
    "    print(a_star.shape)\n",
    "    log_x0_plus_b_star = torch.logcumsumexp(log_dB_u - a_star, dim=-1)  \n",
    "    log_x = a_star + log_x0_plus_b_star                                   # eq (1) in paper\n",
    "    x = torch.exp(log_x).real\t\n",
    "    print(x.shape)\n",
    "    print(C.shape)\n",
    "\n",
    "    y = torch.einsum('bij,ki->bij', x,C)\n",
    "    print(y.shape)\n",
    "    return y "
   ]
  },
  {
   "cell_type": "code",
   "execution_count": 3,
   "metadata": {},
   "outputs": [],
   "source": [
    "d = 1\n",
    "n = 2\n",
    "b = 3\n",
    "l = 4"
   ]
  },
  {
   "cell_type": "code",
   "execution_count": 6,
   "metadata": {},
   "outputs": [],
   "source": [
    "dt = torch.rand((d))\n",
    "A = torch.rand((d,n))\n",
    "B = torch.rand((d,n))\n",
    "C =  torch.rand((d,n))\n",
    "h_t =torch.rand(b,l,d)"
   ]
  },
  {
   "cell_type": "code",
   "execution_count": 7,
   "metadata": {},
   "outputs": [],
   "source": [
    "def print_shapes(tensors : list[torch.Tensor]):\n",
    "    for i,tensor in enumerate(tensors):\n",
    "        print(f\"{i}:{tensor.shape}\")"
   ]
  },
  {
   "cell_type": "code",
   "execution_count": 8,
   "metadata": {},
   "outputs": [
    {
     "name": "stdout",
     "output_type": "stream",
     "text": [
      "0:torch.Size([1, 2])\n",
      "1:torch.Size([1, 2])\n",
      "2:torch.Size([1, 2])\n",
      "3:torch.Size([3, 4, 1])\n",
      "4:torch.Size([1])\n"
     ]
    }
   ],
   "source": [
    "print_shapes([A,B,C,h_t, dt])"
   ]
  },
  {
   "cell_type": "code",
   "execution_count": 16,
   "metadata": {},
   "outputs": [
    {
     "name": "stdout",
     "output_type": "stream",
     "text": [
      "dA: torch.Size([1, 2])\n",
      "dB_u: torch.Size([3, 4, 1, 2])\n",
      "log_da: torch.Size([1, 2])\n",
      "log_dB_u: torch.Size([3, 4, 1, 2])\n",
      "tensor([[[0.0729],\n",
      "         [0.2119],\n",
      "         [0.1471],\n",
      "         [0.1033]],\n",
      "\n",
      "        [[0.0032],\n",
      "         [0.2574],\n",
      "         [0.1191],\n",
      "         [0.2909]],\n",
      "\n",
      "        [[0.0178],\n",
      "         [0.2618],\n",
      "         [0.3042],\n",
      "         [0.2435]]])\n"
     ]
    }
   ],
   "source": [
    "y = SSM_S4(dt,h_t,A,B,C )\n",
    "print(y)"
   ]
  },
  {
   "cell_type": "code",
   "execution_count": 262,
   "metadata": {},
   "outputs": [],
   "source": [
    "def run_SSM(A : torch.Tensor, B : torch.Tensor, C : torch.Tensor, u : torch.Tensor):\n",
    "\n",
    "    #L = u.shape[0]\n",
    "    #N = A.shape[0]\n",
    "    dt = torch.rand((1))\n",
    "    #a_b , b_b , c_b = space.discretize(A,B,C,1.0/L)\n",
    "    return SSM_S4(dt,u[:,np.newaxis], A,B,C)[1].numpy()"
   ]
  },
  {
   "cell_type": "code",
   "execution_count": 265,
   "metadata": {},
   "outputs": [
    {
     "name": "stdout",
     "output_type": "stream",
     "text": [
      "dA: torch.Size([1, 2])\n"
     ]
    },
    {
     "ename": "RuntimeError",
     "evalue": "einsum(): the number of subscripts in the equation (3) does not match the number of dimensions (4) for operand 2 and no ellipsis was given",
     "output_type": "error",
     "traceback": [
      "\u001b[1;31m---------------------------------------------------------------------------\u001b[0m",
      "\u001b[1;31mRuntimeError\u001b[0m                              Traceback (most recent call last)",
      "Cell \u001b[1;32mIn[265], line 1\u001b[0m\n\u001b[1;32m----> 1\u001b[0m y \u001b[38;5;241m=\u001b[39m \u001b[43mrun_SSM\u001b[49m\u001b[43m(\u001b[49m\u001b[43mA\u001b[49m\u001b[43m,\u001b[49m\u001b[43mB\u001b[49m\u001b[43m,\u001b[49m\u001b[43mC\u001b[49m\u001b[43m,\u001b[49m\u001b[43mh_t\u001b[49m\u001b[43m)\u001b[49m\n",
      "Cell \u001b[1;32mIn[262], line 7\u001b[0m, in \u001b[0;36mrun_SSM\u001b[1;34m(A, B, C, u)\u001b[0m\n\u001b[0;32m      5\u001b[0m dt \u001b[38;5;241m=\u001b[39m torch\u001b[38;5;241m.\u001b[39mrand((\u001b[38;5;241m1\u001b[39m))\n\u001b[0;32m      6\u001b[0m \u001b[38;5;66;03m#a_b , b_b , c_b = space.discretize(A,B,C,1.0/L)\u001b[39;00m\n\u001b[1;32m----> 7\u001b[0m \u001b[38;5;28;01mreturn\u001b[39;00m \u001b[43mSSM_S4\u001b[49m\u001b[43m(\u001b[49m\u001b[43mdt\u001b[49m\u001b[43m,\u001b[49m\u001b[43mu\u001b[49m\u001b[43m[\u001b[49m\u001b[43m:\u001b[49m\u001b[43m,\u001b[49m\u001b[43mnp\u001b[49m\u001b[38;5;241;43m.\u001b[39;49m\u001b[43mnewaxis\u001b[49m\u001b[43m]\u001b[49m\u001b[43m,\u001b[49m\u001b[43m \u001b[49m\u001b[43mA\u001b[49m\u001b[43m,\u001b[49m\u001b[43mB\u001b[49m\u001b[43m,\u001b[49m\u001b[43mC\u001b[49m\u001b[43m)\u001b[49m[\u001b[38;5;241m1\u001b[39m]\u001b[38;5;241m.\u001b[39mnumpy()\n",
      "Cell \u001b[1;32mIn[264], line 5\u001b[0m, in \u001b[0;36mSSM_S4\u001b[1;34m(dt, h_t, A, B, C)\u001b[0m\n\u001b[0;32m      3\u001b[0m dA \u001b[38;5;241m=\u001b[39m torch\u001b[38;5;241m.\u001b[39mexp(torch\u001b[38;5;241m.\u001b[39meinsum(\u001b[38;5;124m\"\u001b[39m\u001b[38;5;124md,dn-> dn\u001b[39m\u001b[38;5;124m\"\u001b[39m, dt, A))\n\u001b[0;32m      4\u001b[0m \u001b[38;5;28mprint\u001b[39m(\u001b[38;5;124m\"\u001b[39m\u001b[38;5;124mdA:\u001b[39m\u001b[38;5;124m\"\u001b[39m, dA\u001b[38;5;241m.\u001b[39mshape)\n\u001b[1;32m----> 5\u001b[0m dB_u \u001b[38;5;241m=\u001b[39m \u001b[43mtorch\u001b[49m\u001b[38;5;241;43m.\u001b[39;49m\u001b[43meinsum\u001b[49m\u001b[43m(\u001b[49m\u001b[38;5;124;43m\"\u001b[39;49m\u001b[38;5;124;43md,dn,bld->bldn\u001b[39;49m\u001b[38;5;124;43m\"\u001b[39;49m\u001b[43m,\u001b[49m\u001b[43mdt\u001b[49m\u001b[43m,\u001b[49m\u001b[43mB\u001b[49m\u001b[43m,\u001b[49m\u001b[43mh_t\u001b[49m\u001b[43m)\u001b[49m\n\u001b[0;32m      6\u001b[0m log_da \u001b[38;5;241m=\u001b[39m complex_log(dA)\n\u001b[0;32m      7\u001b[0m \u001b[38;5;28mprint\u001b[39m(\u001b[38;5;124m\"\u001b[39m\u001b[38;5;124mdB_u:\u001b[39m\u001b[38;5;124m\"\u001b[39m, dB_u\u001b[38;5;241m.\u001b[39mshape)\n",
      "File \u001b[1;32mc:\\Users\\Usuario\\Documents\\python_stuff\\venv\\Lib\\site-packages\\torch\\functional.py:377\u001b[0m, in \u001b[0;36meinsum\u001b[1;34m(*args)\u001b[0m\n\u001b[0;32m    372\u001b[0m     \u001b[38;5;28;01mreturn\u001b[39;00m einsum(equation, \u001b[38;5;241m*\u001b[39m_operands)\n\u001b[0;32m    374\u001b[0m \u001b[38;5;28;01mif\u001b[39;00m \u001b[38;5;28mlen\u001b[39m(operands) \u001b[38;5;241m<\u001b[39m\u001b[38;5;241m=\u001b[39m \u001b[38;5;241m2\u001b[39m \u001b[38;5;129;01mor\u001b[39;00m \u001b[38;5;129;01mnot\u001b[39;00m opt_einsum\u001b[38;5;241m.\u001b[39menabled:\n\u001b[0;32m    375\u001b[0m     \u001b[38;5;66;03m# the path for contracting 0 or 1 time(s) is already optimized\u001b[39;00m\n\u001b[0;32m    376\u001b[0m     \u001b[38;5;66;03m# or the user has disabled using opt_einsum\u001b[39;00m\n\u001b[1;32m--> 377\u001b[0m     \u001b[38;5;28;01mreturn\u001b[39;00m \u001b[43m_VF\u001b[49m\u001b[38;5;241;43m.\u001b[39;49m\u001b[43meinsum\u001b[49m\u001b[43m(\u001b[49m\u001b[43mequation\u001b[49m\u001b[43m,\u001b[49m\u001b[43m \u001b[49m\u001b[43moperands\u001b[49m\u001b[43m)\u001b[49m  \u001b[38;5;66;03m# type: ignore[attr-defined]\u001b[39;00m\n\u001b[0;32m    379\u001b[0m path \u001b[38;5;241m=\u001b[39m \u001b[38;5;28;01mNone\u001b[39;00m\n\u001b[0;32m    380\u001b[0m \u001b[38;5;28;01mif\u001b[39;00m opt_einsum\u001b[38;5;241m.\u001b[39mis_available():\n",
      "\u001b[1;31mRuntimeError\u001b[0m: einsum(): the number of subscripts in the equation (3) does not match the number of dimensions (4) for operand 2 and no ellipsis was given"
     ]
    }
   ],
   "source": [
    "y = run_SSM(A,B,C,h_t)"
   ]
  },
  {
   "cell_type": "code",
   "execution_count": null,
   "metadata": {},
   "outputs": [],
   "source": [
    "y = y.reshape(-1)"
   ]
  },
  {
   "cell_type": "code",
   "execution_count": null,
   "metadata": {},
   "outputs": [
    {
     "name": "stdout",
     "output_type": "stream",
     "text": [
      "[0.4017762  0.5127762  0.0409007  0.15183365]\n"
     ]
    }
   ],
   "source": [
    "print(y.reshape(-1))"
   ]
  },
  {
   "cell_type": "code",
   "execution_count": 27,
   "metadata": {},
   "outputs": [
    {
     "name": "stdout",
     "output_type": "stream",
     "text": [
      "0:torch.Size([2, 2])\n",
      "1:torch.Size([2, 1])\n",
      "2:torch.Size([1, 2])\n"
     ]
    }
   ],
   "source": [
    "print_shapes(example_mass(k=40, b=5, m=1))"
   ]
  },
  {
   "cell_type": "markdown",
   "metadata": {},
   "source": [
    "### SOLVE PENDING DIMENSIONALTIY ISSUES\n",
    "\n",
    "ON the current s4 scan implementation in only takes in consideration the fixed dimensions established on the paper, although in this case it should be able to handle dimensions such as the one defined on the example mass, which represents a real state space, need to implement this condition, and this way the code below should work"
   ]
  },
  {
   "cell_type": "code",
   "execution_count": 49,
   "metadata": {},
   "outputs": [
    {
     "data": {
      "text/plain": [
       "torch.Size([10, 1])"
      ]
     },
     "execution_count": 49,
     "metadata": {},
     "output_type": "execute_result"
    }
   ],
   "source": [
    "u[:, np.newaxis].shape"
   ]
  },
  {
   "cell_type": "markdown",
   "metadata": {},
   "source": [
    "Dimensions seems to be ok although numerical there seems to be an issue, check the ssm function"
   ]
  },
  {
   "cell_type": "code",
   "execution_count": 336,
   "metadata": {},
   "outputs": [
    {
     "name": "stdout",
     "output_type": "stream",
     "text": [
      "torch.Size([100, 1])\n",
      "dA: torch.Size([2, 2])\n",
      "dB_u: torch.Size([100, 2, 1])\n",
      "log_da: torch.Size([2, 2])\n",
      "log_dB_u: torch.Size([100, 2, 1])\n",
      "torch.Size([2, 3])\n",
      "torch.Size([100, 2, 3])\n",
      "torch.Size([1, 2])\n",
      "torch.Size([100, 2, 3])\n"
     ]
    },
    {
     "data": {
      "text/plain": [
       "array([9.9999988e-07, 2.1401838e-06, 2.8770498e-06, 0.0000000e+00,\n",
       "       0.0000000e+00, 0.0000000e+00, 9.9999988e-07, 2.1401838e-06,\n",
       "       2.8770498e-06, 0.0000000e+00, 0.0000000e+00, 0.0000000e+00,\n",
       "       9.9999988e-07, 2.1401838e-06, 2.8770498e-06, 0.0000000e+00,\n",
       "       0.0000000e+00, 0.0000000e+00, 9.9999988e-07, 2.1401838e-06,\n",
       "       2.8770498e-06, 0.0000000e+00, 0.0000000e+00, 0.0000000e+00,\n",
       "       9.9999988e-07, 2.1401838e-06, 2.8770498e-06, 0.0000000e+00,\n",
       "       0.0000000e+00, 0.0000000e+00, 9.9999988e-07, 2.1401838e-06,\n",
       "       2.8770498e-06, 0.0000000e+00, 0.0000000e+00, 0.0000000e+00,\n",
       "       9.9999988e-07, 2.1401838e-06, 2.8770498e-06, 0.0000000e+00,\n",
       "       0.0000000e+00, 0.0000000e+00, 9.9999988e-07, 2.1401838e-06,\n",
       "       2.8770498e-06, 0.0000000e+00, 0.0000000e+00, 0.0000000e+00,\n",
       "       9.9999988e-07, 2.1401838e-06, 2.8770498e-06, 0.0000000e+00,\n",
       "       0.0000000e+00, 0.0000000e+00, 9.9999988e-07, 2.1401838e-06,\n",
       "       2.8770498e-06, 0.0000000e+00, 0.0000000e+00, 0.0000000e+00,\n",
       "       9.9999988e-07, 2.1401838e-06, 2.8770498e-06, 0.0000000e+00,\n",
       "       0.0000000e+00, 0.0000000e+00, 9.9999988e-07, 2.1401838e-06,\n",
       "       2.8770498e-06, 0.0000000e+00, 0.0000000e+00, 0.0000000e+00,\n",
       "       9.9999988e-07, 2.1401838e-06, 2.8770498e-06, 0.0000000e+00,\n",
       "       0.0000000e+00, 0.0000000e+00, 9.9999988e-07, 2.1401838e-06,\n",
       "       2.8770498e-06, 0.0000000e+00, 0.0000000e+00, 0.0000000e+00,\n",
       "       9.9999988e-07, 2.1401838e-06, 2.8770498e-06, 0.0000000e+00,\n",
       "       0.0000000e+00, 0.0000000e+00, 9.9999988e-07, 2.1401838e-06,\n",
       "       2.8770498e-06, 0.0000000e+00, 0.0000000e+00, 0.0000000e+00,\n",
       "       9.9999988e-07, 2.1401838e-06, 2.8770498e-06, 0.0000000e+00,\n",
       "       0.0000000e+00, 0.0000000e+00, 9.9999988e-07, 2.1401838e-06,\n",
       "       2.8770498e-06, 0.0000000e+00, 0.0000000e+00, 0.0000000e+00,\n",
       "       9.9999988e-07, 2.1401838e-06, 2.8770498e-06, 0.0000000e+00,\n",
       "       0.0000000e+00, 0.0000000e+00, 9.9999988e-07, 2.1401838e-06,\n",
       "       2.8770498e-06, 0.0000000e+00, 0.0000000e+00, 0.0000000e+00,\n",
       "       9.9999988e-07, 2.1401838e-06, 2.8770498e-06, 0.0000000e+00,\n",
       "       0.0000000e+00, 0.0000000e+00, 9.9999988e-07, 2.1401838e-06,\n",
       "       2.8770498e-06, 0.0000000e+00, 0.0000000e+00, 0.0000000e+00,\n",
       "       9.9999988e-07, 2.1401838e-06, 2.8770498e-06, 0.0000000e+00,\n",
       "       0.0000000e+00, 0.0000000e+00, 9.9999988e-07, 2.1401838e-06,\n",
       "       2.8770498e-06, 0.0000000e+00, 0.0000000e+00, 0.0000000e+00,\n",
       "       9.9999988e-07, 2.1401838e-06, 2.8770498e-06, 0.0000000e+00,\n",
       "       0.0000000e+00, 0.0000000e+00, 9.9999988e-07, 2.1401838e-06,\n",
       "       2.8770498e-06, 0.0000000e+00, 0.0000000e+00, 0.0000000e+00,\n",
       "       9.9999988e-07, 2.1401838e-06, 2.8770498e-06, 0.0000000e+00,\n",
       "       0.0000000e+00, 0.0000000e+00, 9.9999988e-07, 2.1401838e-06,\n",
       "       2.8770498e-06, 0.0000000e+00, 0.0000000e+00, 0.0000000e+00,\n",
       "       9.9999988e-07, 2.1401838e-06, 2.8770498e-06, 0.0000000e+00,\n",
       "       0.0000000e+00, 0.0000000e+00, 9.9999988e-07, 2.1401838e-06,\n",
       "       2.8770498e-06, 0.0000000e+00, 0.0000000e+00, 0.0000000e+00,\n",
       "       9.9999988e-07, 2.1401838e-06, 2.8770498e-06, 0.0000000e+00,\n",
       "       0.0000000e+00, 0.0000000e+00, 9.9999988e-07, 2.1401838e-06,\n",
       "       2.8770498e-06, 0.0000000e+00, 0.0000000e+00, 0.0000000e+00,\n",
       "       9.9999988e-07, 2.1401838e-06, 2.8770498e-06, 0.0000000e+00,\n",
       "       0.0000000e+00, 0.0000000e+00, 9.9999988e-07, 2.1401838e-06,\n",
       "       2.8770498e-06, 0.0000000e+00, 0.0000000e+00, 0.0000000e+00,\n",
       "       9.9999988e-07, 2.1401838e-06, 2.8770498e-06, 0.0000000e+00,\n",
       "       0.0000000e+00, 0.0000000e+00, 9.9999988e-07, 2.1401838e-06,\n",
       "       2.8770498e-06, 0.0000000e+00, 0.0000000e+00, 0.0000000e+00,\n",
       "       9.9999988e-07, 2.1401838e-06, 2.8770498e-06, 0.0000000e+00,\n",
       "       0.0000000e+00, 0.0000000e+00, 9.9999988e-07, 2.1401838e-06,\n",
       "       2.8770498e-06, 0.0000000e+00, 0.0000000e+00, 0.0000000e+00,\n",
       "       9.9999988e-07, 2.1401838e-06, 2.8770498e-06, 0.0000000e+00,\n",
       "       0.0000000e+00, 0.0000000e+00, 9.9999988e-07, 2.1401838e-06,\n",
       "       2.8770498e-06, 0.0000000e+00, 0.0000000e+00, 0.0000000e+00,\n",
       "       9.9999988e-07, 2.1401838e-06, 2.8770498e-06, 0.0000000e+00,\n",
       "       0.0000000e+00, 0.0000000e+00, 9.9999988e-07, 2.1401838e-06,\n",
       "       2.8770498e-06, 0.0000000e+00, 0.0000000e+00, 0.0000000e+00,\n",
       "       9.9999988e-07, 2.1401838e-06, 2.8770498e-06, 0.0000000e+00,\n",
       "       0.0000000e+00, 0.0000000e+00, 9.9999988e-07, 2.1401838e-06,\n",
       "       2.8770498e-06, 0.0000000e+00, 0.0000000e+00, 0.0000000e+00,\n",
       "       9.9999988e-07, 2.1401838e-06, 2.8770498e-06, 0.0000000e+00,\n",
       "       0.0000000e+00, 0.0000000e+00, 9.9999988e-07, 2.1401838e-06,\n",
       "       2.8770498e-06, 0.0000000e+00, 0.0000000e+00, 0.0000000e+00,\n",
       "       9.9999988e-07, 2.1401838e-06, 2.8770498e-06, 0.0000000e+00,\n",
       "       0.0000000e+00, 0.0000000e+00, 9.9999988e-07, 2.1401838e-06,\n",
       "       2.8770498e-06, 0.0000000e+00, 0.0000000e+00, 0.0000000e+00,\n",
       "       9.9999988e-07, 2.1401838e-06, 2.8770498e-06, 0.0000000e+00,\n",
       "       0.0000000e+00, 0.0000000e+00, 9.9999988e-07, 2.1401838e-06,\n",
       "       2.8770498e-06, 0.0000000e+00, 0.0000000e+00, 0.0000000e+00,\n",
       "       9.9999988e-07, 2.1401838e-06, 2.8770498e-06, 0.0000000e+00,\n",
       "       0.0000000e+00, 0.0000000e+00, 9.9999988e-07, 2.1401838e-06,\n",
       "       2.8770498e-06, 0.0000000e+00, 0.0000000e+00, 0.0000000e+00,\n",
       "       9.9999988e-07, 2.1401838e-06, 2.8770498e-06, 0.0000000e+00,\n",
       "       0.0000000e+00, 0.0000000e+00, 9.9999988e-07, 2.1401838e-06,\n",
       "       2.8770498e-06, 0.0000000e+00, 0.0000000e+00, 0.0000000e+00,\n",
       "       9.9999988e-07, 2.1401838e-06, 2.8770498e-06, 0.0000000e+00,\n",
       "       0.0000000e+00, 0.0000000e+00, 9.9999988e-07, 2.1401838e-06,\n",
       "       2.8770498e-06, 0.0000000e+00, 0.0000000e+00, 0.0000000e+00,\n",
       "       9.9999988e-07, 2.1401838e-06, 2.8770498e-06, 0.0000000e+00,\n",
       "       0.0000000e+00, 0.0000000e+00, 9.9999988e-07, 2.1401838e-06,\n",
       "       2.8770498e-06, 0.0000000e+00, 0.0000000e+00, 0.0000000e+00,\n",
       "       9.9999988e-07, 2.1401838e-06, 2.8770498e-06, 0.0000000e+00,\n",
       "       0.0000000e+00, 0.0000000e+00, 9.9999988e-07, 2.1401838e-06,\n",
       "       2.8770498e-06, 0.0000000e+00, 0.0000000e+00, 0.0000000e+00,\n",
       "       9.9999988e-07, 2.1401838e-06, 2.8770498e-06, 0.0000000e+00,\n",
       "       0.0000000e+00, 0.0000000e+00, 9.9999988e-07, 2.1401838e-06,\n",
       "       2.8770498e-06, 0.0000000e+00, 0.0000000e+00, 0.0000000e+00,\n",
       "       9.9999988e-07, 2.1401838e-06, 2.8770498e-06, 0.0000000e+00,\n",
       "       0.0000000e+00, 0.0000000e+00, 9.9999988e-07, 2.1401838e-06,\n",
       "       2.8770498e-06, 0.0000000e+00, 0.0000000e+00, 0.0000000e+00,\n",
       "       9.9999988e-07, 2.1401838e-06, 2.8770498e-06, 0.0000000e+00,\n",
       "       0.0000000e+00, 0.0000000e+00, 9.9999988e-07, 2.1401838e-06,\n",
       "       2.8770498e-06, 0.0000000e+00, 0.0000000e+00, 0.0000000e+00,\n",
       "       9.9999988e-07, 2.1401838e-06, 2.8770498e-06, 0.0000000e+00,\n",
       "       0.0000000e+00, 0.0000000e+00, 9.9999988e-07, 2.1401838e-06,\n",
       "       2.8770498e-06, 0.0000000e+00, 0.0000000e+00, 0.0000000e+00,\n",
       "       9.9999988e-07, 2.1401838e-06, 2.8770498e-06, 0.0000000e+00,\n",
       "       0.0000000e+00, 0.0000000e+00, 9.9999988e-07, 2.1401838e-06,\n",
       "       2.8770498e-06, 0.0000000e+00, 0.0000000e+00, 0.0000000e+00,\n",
       "       9.9999988e-07, 2.1401838e-06, 2.8770498e-06, 0.0000000e+00,\n",
       "       0.0000000e+00, 0.0000000e+00, 9.9999988e-07, 2.1401838e-06,\n",
       "       2.8770498e-06, 0.0000000e+00, 0.0000000e+00, 0.0000000e+00,\n",
       "       9.9999988e-07, 2.1401838e-06, 2.8770498e-06, 0.0000000e+00,\n",
       "       0.0000000e+00, 0.0000000e+00, 9.9999988e-07, 2.1401838e-06,\n",
       "       2.8770498e-06, 0.0000000e+00, 0.0000000e+00, 0.0000000e+00,\n",
       "       9.9999988e-07, 2.1401838e-06, 2.8770498e-06, 0.0000000e+00,\n",
       "       0.0000000e+00, 0.0000000e+00, 9.9999988e-07, 2.1401838e-06,\n",
       "       2.8770498e-06, 0.0000000e+00, 0.0000000e+00, 0.0000000e+00,\n",
       "       9.9999988e-07, 2.1401838e-06, 2.8770498e-06, 0.0000000e+00,\n",
       "       0.0000000e+00, 0.0000000e+00, 9.9999988e-07, 2.1401838e-06,\n",
       "       2.8770498e-06, 0.0000000e+00, 0.0000000e+00, 0.0000000e+00,\n",
       "       9.9999988e-07, 2.1401838e-06, 2.8770498e-06, 0.0000000e+00,\n",
       "       0.0000000e+00, 0.0000000e+00, 9.9999988e-07, 2.1401838e-06,\n",
       "       2.8770498e-06, 0.0000000e+00, 0.0000000e+00, 0.0000000e+00,\n",
       "       9.9999988e-07, 2.1401838e-06, 2.8770498e-06, 0.0000000e+00,\n",
       "       0.0000000e+00, 0.0000000e+00, 9.9999988e-07, 2.1401838e-06,\n",
       "       2.8770498e-06, 0.0000000e+00, 0.0000000e+00, 0.0000000e+00,\n",
       "       9.9999988e-07, 2.1401838e-06, 2.8770498e-06, 0.0000000e+00,\n",
       "       0.0000000e+00, 0.0000000e+00, 9.9999988e-07, 2.1401838e-06,\n",
       "       2.8770498e-06, 0.0000000e+00, 0.0000000e+00, 0.0000000e+00,\n",
       "       9.9999988e-07, 2.1401838e-06, 2.8770498e-06, 0.0000000e+00,\n",
       "       0.0000000e+00, 0.0000000e+00, 9.9999988e-07, 2.1401838e-06,\n",
       "       2.8770498e-06, 0.0000000e+00, 0.0000000e+00, 0.0000000e+00,\n",
       "       9.9999988e-07, 2.1401838e-06, 2.8770498e-06, 0.0000000e+00,\n",
       "       0.0000000e+00, 0.0000000e+00, 9.9999988e-07, 2.1401838e-06,\n",
       "       2.8770498e-06, 0.0000000e+00, 0.0000000e+00, 0.0000000e+00,\n",
       "       9.9999988e-07, 2.1401838e-06, 2.8770498e-06, 0.0000000e+00,\n",
       "       0.0000000e+00, 0.0000000e+00, 9.9999988e-07, 2.1401838e-06,\n",
       "       2.8770498e-06, 0.0000000e+00, 0.0000000e+00, 0.0000000e+00,\n",
       "       9.9999988e-07, 2.1401838e-06, 2.8770498e-06, 0.0000000e+00,\n",
       "       0.0000000e+00, 0.0000000e+00, 9.9999988e-07, 2.1401838e-06,\n",
       "       2.8770498e-06, 0.0000000e+00, 0.0000000e+00, 0.0000000e+00,\n",
       "       9.9999988e-07, 2.1401838e-06, 2.8770498e-06, 0.0000000e+00,\n",
       "       0.0000000e+00, 0.0000000e+00, 9.9999988e-07, 2.1401838e-06,\n",
       "       2.8770498e-06, 0.0000000e+00, 0.0000000e+00, 0.0000000e+00,\n",
       "       9.9999988e-07, 2.1401838e-06, 2.8770498e-06, 0.0000000e+00,\n",
       "       0.0000000e+00, 0.0000000e+00, 9.9999988e-07, 2.1401838e-06,\n",
       "       2.8770498e-06, 0.0000000e+00, 0.0000000e+00, 0.0000000e+00,\n",
       "       9.9999988e-07, 2.1401838e-06, 2.8770498e-06, 0.0000000e+00,\n",
       "       0.0000000e+00, 0.0000000e+00, 9.9999988e-07, 2.1401838e-06,\n",
       "       2.8770498e-06, 0.0000000e+00, 0.0000000e+00, 0.0000000e+00,\n",
       "       9.9999988e-07, 2.1401838e-06, 2.8770498e-06, 0.0000000e+00,\n",
       "       0.0000000e+00, 0.0000000e+00, 9.9999988e-07, 2.1401838e-06,\n",
       "       2.8770498e-06, 0.0000000e+00, 0.0000000e+00, 0.0000000e+00],\n",
       "      dtype=float32)"
      ]
     },
     "execution_count": 336,
     "metadata": {},
     "output_type": "execute_result"
    }
   ],
   "source": [
    "SSM_S4(torch.rand((1)),u[:,np.newaxis], *ssm).reshape(-1).numpy()"
   ]
  },
  {
   "cell_type": "code",
   "execution_count": 337,
   "metadata": {},
   "outputs": [
    {
     "name": "stdout",
     "output_type": "stream",
     "text": [
      "torch.Size([100, 1])\n",
      "dA: torch.Size([2, 2])\n",
      "dB_u: torch.Size([100, 2, 1])\n",
      "log_da: torch.Size([2, 2])\n",
      "log_dB_u: torch.Size([100, 2, 1])\n",
      "torch.Size([2, 3])\n",
      "torch.Size([100, 2, 3])\n",
      "torch.Size([1, 2])\n",
      "torch.Size([100, 2, 3])\n"
     ]
    }
   ],
   "source": [
    "y = run_SSM(*ssm, u).reshape(-1)"
   ]
  },
  {
   "cell_type": "code",
   "execution_count": 338,
   "metadata": {},
   "outputs": [
    {
     "data": {
      "text/plain": [
       "array([9.9999988e-07, 2.2816862e-06, 2.7802209e-06, 0.0000000e+00,\n",
       "       0.0000000e+00, 0.0000000e+00], dtype=float32)"
      ]
     },
     "execution_count": 338,
     "metadata": {},
     "output_type": "execute_result"
    }
   ],
   "source": [
    "y"
   ]
  },
  {
   "cell_type": "code",
   "execution_count": 340,
   "metadata": {},
   "outputs": [
    {
     "name": "stdout",
     "output_type": "stream",
     "text": [
      "tensor([0.0000, 0.0000, 0.0000, 0.0000, 0.0000, 0.0000, 0.5646, 0.6442, 0.7174,\n",
      "        0.7833, 0.8415, 0.8912, 0.9320, 0.9636, 0.9854, 0.9975, 0.9996, 0.9917,\n",
      "        0.9738, 0.9463, 0.9093, 0.8632, 0.8085, 0.7457, 0.6755, 0.5985, 0.5155,\n",
      "        0.0000, 0.0000, 0.0000, 0.0000, 0.0000, -0.0000, -0.0000, -0.0000, -0.0000,\n",
      "        -0.0000, -0.0000, -0.0000, -0.0000, -0.0000, -0.0000, -0.0000, -0.0000, -0.0000,\n",
      "        -0.0000, -0.0000, -0.0000, -0.0000, -0.0000, -0.0000, -0.0000, -0.0000, -0.0000,\n",
      "        -0.0000, -0.0000, -0.0000, -0.0000, -0.0000, -0.0000, -0.0000, -0.0000, -0.0000,\n",
      "        0.0000, 0.0000, 0.0000, 0.0000, 0.0000, 0.0000, 0.5784, 0.6570, 0.7290,\n",
      "        0.7937, 0.8504, 0.8987, 0.9380, 0.9679, 0.9882, 0.9985, 0.9989, 0.9894,\n",
      "        0.9699, 0.9407, 0.9022, 0.8546, 0.7985, 0.7344, 0.6630, 0.5849, 0.5010,\n",
      "        0.0000, 0.0000, 0.0000, 0.0000, 0.0000, -0.0000, -0.0000, -0.0000, -0.0000,\n",
      "        -0.0000])\n",
      "torch.Size([100, 1])\n",
      "dA: torch.Size([2, 2])\n",
      "dB_u: torch.Size([100, 2, 1])\n",
      "log_da: torch.Size([2, 2])\n",
      "log_dB_u: torch.Size([100, 2, 1])\n",
      "torch.Size([2, 3])\n",
      "torch.Size([100, 2, 3])\n",
      "torch.Size([1, 2])\n",
      "torch.Size([100, 2, 3])\n",
      "[-0.03999900000011621, 9.999999e-07, 0.04000099999988379]\n",
      "[-0.039997325413005456, 2.674587e-06, 0.040002674586994545]\n",
      "[-0.04, 0.0, 0.04]\n",
      "[-0.03999900000011621, 9.999999e-07, 0.04000099999988379]\n",
      "[-0.039997325413005456, 2.674587e-06, 0.040002674586994545]\n",
      "[-0.04, 0.0, 0.04]\n",
      "[-0.03999900000011621, 9.999999e-07, 0.04000099999988379]\n",
      "[-0.039997325413005456, 2.674587e-06, 0.040002674586994545]\n",
      "[-0.04, 0.0, 0.04]\n",
      "[-0.03999900000011621, 9.999999e-07, 0.04000099999988379]\n",
      "[-0.039997325413005456, 2.674587e-06, 0.040002674586994545]\n",
      "[-0.04, 0.0, 0.04]\n",
      "[-0.03999900000011621, 9.999999e-07, 0.04000099999988379]\n",
      "[-0.039997325413005456, 2.674587e-06, 0.040002674586994545]\n",
      "[-0.04, 0.0, 0.04]\n",
      "[-0.03999900000011621, 9.999999e-07, 0.04000099999988379]\n",
      "[-0.039997325413005456, 2.674587e-06, 0.040002674586994545]\n",
      "[-0.04, 0.0, 0.04]\n",
      "[-0.03999900000011621, 9.999999e-07, 0.04000099999988379]\n",
      "[-0.039997325413005456, 2.674587e-06, 0.040002674586994545]\n",
      "[-0.04, 0.0, 0.04]\n"
     ]
    },
    {
     "name": "stderr",
     "output_type": "stream",
     "text": [
      "MovieWriter imagemagick unavailable; using Pillow instead.\n"
     ]
    },
    {
     "name": "stdout",
     "output_type": "stream",
     "text": [
      "[-0.03999900000011621, 9.999999e-07, 0.04000099999988379]\n",
      "[-0.039997325413005456, 2.674587e-06, 0.040002674586994545]\n",
      "[-0.04, 0.0, 0.04]\n",
      "[-0.03999900000011621, 9.999999e-07, 0.04000099999988379]\n",
      "[-0.039997325413005456, 2.674587e-06, 0.040002674586994545]\n",
      "[-0.04, 0.0, 0.04]\n",
      "[-0.03999900000011621, 9.999999e-07, 0.04000099999988379]\n",
      "[-0.039997325413005456, 2.674587e-06, 0.040002674586994545]\n",
      "[-0.04, 0.0, 0.04]\n",
      "[-0.03999900000011621, 9.999999e-07, 0.04000099999988379]\n",
      "[-0.039997325413005456, 2.674587e-06, 0.040002674586994545]\n",
      "[-0.04, 0.0, 0.04]\n",
      "[-0.03999900000011621, 9.999999e-07, 0.04000099999988379]\n",
      "[-0.039997325413005456, 2.674587e-06, 0.040002674586994545]\n",
      "[-0.04, 0.0, 0.04]\n",
      "[-0.03999900000011621, 9.999999e-07, 0.04000099999988379]\n",
      "[-0.039997325413005456, 2.674587e-06, 0.040002674586994545]\n",
      "[-0.04, 0.0, 0.04]\n",
      "[-0.03999900000011621, 9.999999e-07, 0.04000099999988379]\n",
      "[-0.039997325413005456, 2.674587e-06, 0.040002674586994545]\n",
      "[-0.04, 0.0, 0.04]\n",
      "[-0.03999900000011621, 9.999999e-07, 0.04000099999988379]\n",
      "[-0.039997325413005456, 2.674587e-06, 0.040002674586994545]\n",
      "[-0.04, 0.0, 0.04]\n",
      "[-0.03999900000011621, 9.999999e-07, 0.04000099999988379]\n",
      "[-0.039997325413005456, 2.674587e-06, 0.040002674586994545]\n",
      "[-0.04, 0.0, 0.04]\n",
      "[-0.03999900000011621, 9.999999e-07, 0.04000099999988379]\n",
      "[-0.039997325413005456, 2.674587e-06, 0.040002674586994545]\n"
     ]
    },
    {
     "data": {
      "image/png": "[encoded data removed]",
      "text/plain": [
       "<Figure size 640x480 with 3 Axes>"
      ]
     },
     "metadata": {},
     "output_type": "display_data"
    }
   ],
   "source": [
    "ssm = example_mass(k=40, b=5, m=1)\n",
    "\n",
    "# L samples of u(t).\n",
    "L = 100\n",
    "step = 1.0 / L\n",
    "ks = np.arange(L)\n",
    "u = example_force(ks * step)\n",
    "print(u)\n",
    "# Approximation of y(t).\n",
    "y = SSM_S4(torch.rand((1)),u[:,np.newaxis], *ssm).reshape(-1).numpy()\n",
    "# Plotting ---\n",
    "import matplotlib.pyplot as plt\n",
    "import seaborn\n",
    "from celluloid import Camera\n",
    "\n",
    "seaborn.set_context(\"paper\")\n",
    "fig, (ax1, ax2, ax3) = plt.subplots(3)\n",
    "camera = Camera(fig)\n",
    "ax1.set_title(\"Force $u_k$\")\n",
    "ax2.set_title(\"Position $y_k$\")\n",
    "#ax3.set_title(\"Object\")\n",
    "ax1.set_xticks([], [])\n",
    "ax2.set_xticks([], [])\n",
    "\n",
    "# Animate plot over time\n",
    "for k in range(0, L, 2):\n",
    "    print([y[k] - 0.04, y[k], y[k] + 0.04])\n",
    "    ax1.plot(ks[:k], u[:k], color=\"red\")\n",
    "    ax2.plot(ks[:k], y[:k], color=\"blue\")\n",
    "    ax3.boxplot(\n",
    "        [[y[k, 0] - 0.04, y[k, 0], y[k, 0] + 0.04]],\n",
    "        showcaps=False,\n",
    "        whis=False,\n",
    "        vert=False,\n",
    "        widths=10,\n",
    "    )\n",
    "    camera.snap()\n",
    "anim = camera.animate()\n",
    "anim.save(\"line.gif\", dpi=150, writer=\"imagemagick\")"
   ]
  },
  {
   "cell_type": "code",
   "execution_count": null,
   "metadata": {},
   "outputs": [],
   "source": [
    "def example_ssm():\n",
    "    # SSM\n",
    "    ssm = example_mass(k=40, b=5, m=1)\n",
    "\n",
    "    # L samples of u(t).\n",
    "    L = 100\n",
    "    step = 1.0 / L\n",
    "    ks = np.arange(L)\n",
    "    u = example_force(ks * step)\n",
    "\n",
    "    # Approximation of y(t).\n",
    "    y = run_SSM(*ssm, u)\n",
    "    print\n",
    "    # Plotting ---\n",
    "    import matplotlib.pyplot as plt\n",
    "    import seaborn\n",
    "    from celluloid import Camera\n",
    "\n",
    "    seaborn.set_context(\"paper\")\n",
    "    fig, (ax1, ax2, ax3) = plt.subplots(3)\n",
    "    camera = Camera(fig)\n",
    "    ax1.set_title(\"Force $u_k$\")\n",
    "    ax2.set_title(\"Position $y_k$\")\n",
    "    ax3.set_title(\"Object\")\n",
    "    ax1.set_xticks([], [])\n",
    "    ax2.set_xticks([], [])\n",
    "\n",
    "    # Animate plot over time\n",
    "    for k in range(0, L, 2):\n",
    "        ax1.plot(ks[:k], u[:k], color=\"red\")\n",
    "        ax2.plot(ks[:k], y[:k], color=\"blue\")\n",
    "        ax3.boxplot(\n",
    "            [[y[k, 0] - 0.04, y[k, 0], y[k, 0] + 0.04]],\n",
    "            showcaps=False,\n",
    "            whis=False,\n",
    "            vert=False,\n",
    "            widths=10,\n",
    "        )\n",
    "        camera.snap()\n",
    "    anim = camera.animate()\n",
    "    anim.save(\"line.gif\", dpi=150, writer=\"imagemagick\")\n",
    "if False:\n",
    "    example_ssm()"
   ]
  },
  {
   "cell_type": "code",
   "execution_count": 31,
   "metadata": {},
   "outputs": [
    {
     "ename": "NameError",
     "evalue": "name 'example_ssm' is not defined",
     "output_type": "error",
     "traceback": [
      "\u001b[1;31m---------------------------------------------------------------------------\u001b[0m",
      "\u001b[1;31mNameError\u001b[0m                                 Traceback (most recent call last)",
      "Cell \u001b[1;32mIn[31], line 1\u001b[0m\n\u001b[1;32m----> 1\u001b[0m \u001b[43mexample_ssm\u001b[49m()\n",
      "\u001b[1;31mNameError\u001b[0m: name 'example_ssm' is not defined"
     ]
    }
   ],
   "source": [
    "example_ssm()"
   ]
  },
  {
   "cell_type": "code",
   "execution_count": null,
   "metadata": {},
   "outputs": [],
   "source": []
  }
 ],
 "metadata": {
  "kernelspec": {
   "display_name": "venv",
   "language": "python",
   "name": "python3"
  },
  "language_info": {
   "codemirror_mode": {
    "name": "ipython",
    "version": 3
   },
   "file_extension": ".py",
   "mimetype": "text/x-python",
   "name": "python",
   "nbconvert_exporter": "python",
   "pygments_lexer": "ipython3",
   "version": "3.11.4"
  }
 },
 "nbformat": 4,
 "nbformat_minor": 2
}
